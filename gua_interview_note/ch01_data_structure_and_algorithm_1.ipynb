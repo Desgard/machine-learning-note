{
 "cells": [
  {
   "cell_type": "markdown",
   "metadata": {},
   "source": [
    "# 数据结构与算法总结"
   ]
  },
  {
   "cell_type": "markdown",
   "metadata": {},
   "source": [
    "> 所有的算法描述均使用 Python 3.5 ，因为发现 Python 对算法的描述更直观、更友好。\n",
    "\n",
    "## 1. 时间和空间复杂度\n",
    "\n",
    "### 时间频度与时间复杂度\n",
    "\n",
    "算法消耗的时间，无法理论计算，是运行测试的实践值。$T(n)$表示算法中基本操作重复执行的次数是问题规模$n$的某个函数，换句话说就是一个算法的执行次数（时间频度）。若某个辅助函数$f(n)$使得当$n$趋于无穷大时，$\\frac{T(n)}{f(n)}$ 的极限值不等于零的常数，则称 $f(n)$是$T(n)$的同数量级函数。记作$T(n)=O(f(n))$，称 $O(f(n))$为算法的时间复杂度。\n",
    "\n",
    "## 2. 数组\n",
    "\n",
    "### 1）[二维数组中的查找](https://www.nowcoder.com/questionTerminal/abc3fe2ce8e146608e868a70efebf62e?orderByHotValue=1&page=1&onlyReference=false)\n",
    "\n",
    "思路：两个方向分别遍历一遍就好了。其实还有更加优化的方案就是分区域二分。\n"
   ]
  },
  {
   "cell_type": "code",
   "execution_count": 4,
   "metadata": {},
   "outputs": [],
   "source": [
    "#!/usr/bin/env python\n",
    "#-*- coding:utf8 -*-\n",
    "# Power by Desgard_Duan \n",
    "\n",
    "# search function - normal\n",
    "def search(matrix, num):\n",
    "    i = 0\n",
    "    j = len(matrix[0]) - 1\n",
    "    max_i = len(matrix) - 1\n",
    "    while i <= max_i and j >= 0:\n",
    "        if matrix[i][j] == num:\n",
    "            return (True, i, j)\n",
    "        elif matrix[i][j] > num:\n",
    "            j = j - 1\n",
    "        else:\n",
    "            i = i + 1\n",
    "    return False\n",
    "\n",
    "\n",
    "# search function - binary search\n",
    "def search_binary(matrix, num):\n",
    "    "
   ]
  },
  {
   "cell_type": "code",
   "execution_count": 7,
   "metadata": {},
   "outputs": [
    {
     "name": "stdout",
     "output_type": "stream",
     "text": [
      "False\n",
      "(True, 2, 2)\n",
      "(True, 2, 1)\n"
     ]
    }
   ],
   "source": [
    "# unit test\n",
    "mat = [\n",
    "    [1, 2, 8, 9],\n",
    "    [2, 4, 9, 12],\n",
    "    [4, 7, 10, 13],\n",
    "    [6, 8, 11, 15],\n",
    "]\n",
    "\n",
    "print(search(mat, 14))\n",
    "print(search(mat, 10))\n",
    "print(search(mat, 7))"
   ]
  },
  {
   "cell_type": "markdown",
   "metadata": {},
   "source": [
    "## 字符串\n",
    "\n",
    "### 1）最长回文子串"
   ]
  },
  {
   "cell_type": "code",
   "execution_count": null,
   "metadata": {},
   "outputs": [],
   "source": []
  }
 ],
 "metadata": {
  "kernelspec": {
   "display_name": "Python 3",
   "language": "python",
   "name": "python3"
  },
  "language_info": {
   "codemirror_mode": {
    "name": "ipython",
    "version": 3
   },
   "file_extension": ".py",
   "mimetype": "text/x-python",
   "name": "python",
   "nbconvert_exporter": "python",
   "pygments_lexer": "ipython3",
   "version": "3.5.2"
  }
 },
 "nbformat": 4,
 "nbformat_minor": 2
}
