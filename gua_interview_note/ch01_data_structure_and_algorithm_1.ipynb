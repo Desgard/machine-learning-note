{
 "cells": [
  {
   "cell_type": "markdown",
   "metadata": {},
   "source": [
    "# 数据结构与算法总结"
   ]
  },
  {
   "cell_type": "markdown",
   "metadata": {},
   "source": [
    "> 所有的算法描述均使用 Python 3.5 ，因为发现 Python 对算法的描述更直观、更友好。\n",
    "\n",
    "## 1. 时间和空间复杂度\n",
    "\n",
    "### 时间频度与时间复杂度\n",
    "\n",
    "算法消耗的时间，无法理论计算，是运行测试的实践值。$T(n)$表示算法中基本操作重复执行的次数是问题规模$n$的某个函数，换句话说就是一个算法的执行次数（时间频度）。若某个辅助函数$f(n)$使得当$n$趋于无穷大时，$\\frac{T(n)}{f(n)}$ 的极限值不等于零的常数，则称 $f(n)$是$T(n)$的同数量级函数。记作$T(n)=O(f(n))$，称 $O(f(n))$为算法的时间复杂度。\n",
    "\n",
    "## 2. 数组\n",
    "\n",
    "### 1）[二维数组中的查找](https://www.nowcoder.com/questionTerminal/abc3fe2ce8e146608e868a70efebf62e?orderByHotValue=1&page=1&onlyReference=false)\n",
    "\n",
    "思路：两个方向分别遍历一遍就好了。其实还有更加优化的方案就是分区域二分。\n"
   ]
  },
  {
   "cell_type": "code",
   "execution_count": 48,
   "metadata": {},
   "outputs": [],
   "source": [
    "#!/usr/bin/env python\n",
    "#-*- coding:utf8 -*-\n",
    "# Power by Desgard_Duan \n",
    "\n",
    "# search function - normal\n",
    "def search(matrix, num):\n",
    "    i = 0\n",
    "    j = len(matrix[0]) - 1\n",
    "    max_i = len(matrix) - 1\n",
    "    while i <= max_i and j >= 0:\n",
    "        if matrix[i][j] == num:\n",
    "            return (True, i, j)\n",
    "        elif matrix[i][j] > num:\n",
    "            j = j - 1\n",
    "        else:\n",
    "            i = i + 1\n",
    "    return False\n",
    "\n",
    "import numpy as np\n",
    "import math\n",
    "\n",
    "# search function - binary search\n",
    "def search_by_binary(matrix, num):\n",
    "    i = 0\n",
    "    j = len(matrix[0]) - 1\n",
    "    max_i = len(matrix[0]) - 1\n",
    "    row = np.split(matrix, [1], axis=0)[0][0]\n",
    "    (index_1, state) = binary_search(row, num)\n",
    "    if state:\n",
    "        return (True, 0, index_1)\n",
    "    if index_1 < 0:\n",
    "        return False\n",
    "    col = []\n",
    "    for i in range(0, len(matrix[0])):\n",
    "        col.append(matrix[i][index_1])\n",
    "    (index_2, state) = binary_search(col, num)\n",
    "    if state:\n",
    "        return (True, index_1, index_2)\n",
    "    else:\n",
    "        return False\n",
    "    \n",
    "def binary_search(arr, val):\n",
    "    l, r = 0, len(arr) - 1\n",
    "    while l <= r:\n",
    "        mid = math.floor((l + r) / 2)\n",
    "        if arr[mid] < val:\n",
    "            l = mid + 1\n",
    "        elif val < arr[mid]:\n",
    "            r = mid - 1\n",
    "        else:\n",
    "            return (mid, True)\n",
    "    return (l - 1, False)"
   ]
  },
  {
   "cell_type": "code",
   "execution_count": 50,
   "metadata": {},
   "outputs": [
    {
     "name": "stdout",
     "output_type": "stream",
     "text": [
      "False\n",
      "(True, 2, 2)\n",
      "(True, 2, 1)\n"
     ]
    },
    {
     "data": {
      "text/plain": [
       "(True, 1, 2)"
      ]
     },
     "execution_count": 50,
     "metadata": {},
     "output_type": "execute_result"
    }
   ],
   "source": [
    "# unit test\n",
    "mat = [\n",
    "    [1, 2, 8, 9],\n",
    "    [2, 4, 9, 12],\n",
    "    [4, 7, 10, 13],\n",
    "    [6, 8, 11, 15],\n",
    "]\n",
    "\n",
    "# 普通遍历\n",
    "print(search(mat, 14))\n",
    "print(search(mat, 10))\n",
    "print(search(mat, 7))\n",
    "\n",
    "# 两次二分\n",
    "search_by_binary(mat, 7)"
   ]
  },
  {
   "cell_type": "markdown",
   "metadata": {},
   "source": [
    "## 字符串\n",
    "\n",
    "### 1）[最长回文子串 - LPS](https://leetcode.com/problems/longest-palindromic-substring/description/)\n",
    "\n",
    "如果面试的时候遇到，后缀数组和 Manacher 应该都敲不出来吧，哈哈。dp 来搞吧。下面列出状态转移方程, $dp\\{i, j\\}$表示子串中 $str[i \\dots j]$ 是否是回文串。如果没记错这题还能用扩展 kmp 来做，且复杂度能讲到$O(n)$，思考一下：\n",
    "\n",
    "$$\n",
    "\\begin{equation}  \n",
    "\\left\\{  \n",
    "    \\begin{array}{lr}  \n",
    "    dp\\{i, i\\}=true(0\\leqslant i\\leqslant n-1)\\\\\n",
    "    dp\\{i, i-1\\}=true(1\\leqslant i\\leqslant n-1)\\\\\n",
    "    dp\\{i, j\\}=(str\\{i\\}\\ is\\ str\\{j\\})\\ \\land \\ (dp\\{i+1,j-1\\}\\ is\\ true)\n",
    "    \\end{array}  \n",
    "\\right.  \n",
    "\\end{equation}  \n",
    "$$\n"
   ]
  },
  {
   "cell_type": "code",
   "execution_count": 18,
   "metadata": {},
   "outputs": [
    {
     "name": "stdout",
     "output_type": "stream",
     "text": [
      "(1, 4, 'uaau')\n",
      "(8, 14, '1216121')\n"
     ]
    }
   ],
   "source": [
    "# LPS DP O(n^2)\n",
    "def lps_dp(s):\n",
    "    lens = len(s)\n",
    "    if lens <= 1:\n",
    "        return s\n",
    "    dp = [[False for i in range(lens)] for j in range(lens)]\n",
    "    for i in range(lens):\n",
    "        dp[i][i] = True\n",
    "        dp[i][i - 1] = True\n",
    "    l, r = 0, 0\n",
    "    for k in range(2, lens + 1):\n",
    "        for i in range(0, lens - k + 1):\n",
    "            if s[i] == s[i + k - 1] and dp[i + 1][i + k - 2]:\n",
    "                dp[i][i + k - 1] = True\n",
    "                if r - l < k:\n",
    "                    l = i\n",
    "                    r = i + k - 1\n",
    "    return (l, r, s[l:r + 1])\n",
    "    \n",
    "print(lps_dp(\"guaaua\"))\n",
    "print(lps_dp(\"12125214121612121\"))"
   ]
  },
  {
   "cell_type": "markdown",
   "metadata": {},
   "source": [
    "### 2）[最长不重复子串](https://leetcode.com/problems/longest-substring-without-repeating-characters/description/)\n",
    "\n",
    "很入门的一道 dp 题目，可以借助 dp 的思想再加 hash 的运用做到 $O(n)$ 的效果，状态转移：\n",
    "\n",
    "$$\n",
    "dp\\{i\\}=max\\{dp\\{i-1\\},\\ i-Last\\ Pos)\\}\n",
    "$$"
   ]
  },
  {
   "cell_type": "code",
   "execution_count": 40,
   "metadata": {},
   "outputs": [
    {
     "name": "stdout",
     "output_type": "stream",
     "text": [
      "3\n",
      "6\n"
     ]
    }
   ],
   "source": [
    "# Longest Substring Without Repeating Characters\n",
    "# 时间O(n), 空间O(1)\n",
    "def lswrc_dp(s):\n",
    "    lens = len(s)\n",
    "    if lens <= 1:\n",
    "        return lens\n",
    "    pos_rec = dict.fromkeys([s[i] for i in range(lens)], -1)\n",
    "    pre, max_len = 0, 0\n",
    "    for i in range(lens):\n",
    "        ch = s[i]\n",
    "        last_pos = pos_rec[ch]\n",
    "        pre = max(last_pos + 1, max_len)\n",
    "        max_len = max(i - pre + 1, max_len)\n",
    "        pos_rec[ch] = i\n",
    "    return max_len\n",
    "        \n",
    "print(lswrc_dp(\"hello\"))\n",
    "print(lswrc_dp(\"desgardduan\"))"
   ]
  },
  {
   "cell_type": "code",
   "execution_count": null,
   "metadata": {},
   "outputs": [],
   "source": []
  }
 ],
 "metadata": {
  "kernelspec": {
   "display_name": "Python 3",
   "language": "python",
   "name": "python3"
  },
  "language_info": {
   "codemirror_mode": {
    "name": "ipython",
    "version": 3
   },
   "file_extension": ".py",
   "mimetype": "text/x-python",
   "name": "python",
   "nbconvert_exporter": "python",
   "pygments_lexer": "ipython3",
   "version": "3.5.2"
  }
 },
 "nbformat": 4,
 "nbformat_minor": 2
}
