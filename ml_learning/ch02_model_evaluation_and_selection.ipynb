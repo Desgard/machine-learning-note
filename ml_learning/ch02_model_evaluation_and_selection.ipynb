{
 "cells": [
  {
   "cell_type": "markdown",
   "metadata": {},
   "source": [
    "# 模型评估与选择"
   ]
  },
  {
   "cell_type": "markdown",
   "metadata": {},
   "source": [
    "## 监督学习与无监督学习\n",
    "\n",
    "根据训练数据是否拥有标记信息，学习任务大致分为两大类，**监督学习（supervised learning）**和**无监督学习（unsupervised learning）**，**分类（classification）**和**回归（regression）**是前者的代表，而**聚类（clustering）**是后者的代表。机器学习的目标是**使学得的模型很好的适用于“新样本”，而不是仅仅在训练样本上工作得很好**；即使对聚类这样的无监督学习任务，我们也希望学得的簇划分能适用于没在训练集中出现的样本。学得模型适用于新样本的能力，称之为**泛华（generalization）能力**。具有强泛化能力的模型能很好的适用于整个样本空间"
   ]
  }
 ],
 "metadata": {
  "kernelspec": {
   "display_name": "Python 3",
   "language": "python",
   "name": "python3"
  },
  "language_info": {
   "codemirror_mode": {
    "name": "ipython",
    "version": 3
   },
   "file_extension": ".py",
   "mimetype": "text/x-python",
   "name": "python",
   "nbconvert_exporter": "python",
   "pygments_lexer": "ipython3",
   "version": "3.6.0"
  }
 },
 "nbformat": 4,
 "nbformat_minor": 2
}
