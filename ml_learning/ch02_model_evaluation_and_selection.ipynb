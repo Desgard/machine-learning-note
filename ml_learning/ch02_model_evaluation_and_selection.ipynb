{
 "cells": [
  {
   "cell_type": "markdown",
   "metadata": {},
   "source": [
    "# 模型评估与选择"
   ]
  },
  {
   "cell_type": "markdown",
   "metadata": {},
   "source": [
    "## 监督学习与无监督学习\n",
    "\n",
    "根据训练数据是否拥有标记信息，学习任务大致分为两大类，**监督学习（supervised learning）**和**无监督学习（unsupervised learning）**，**分类（classification）**和**回归（regression）**是前者的代表，而**聚类（clustering）**是后者的代表。机器学习的目标是**使学得的模型很好的适用于“新样本”，而不是仅仅在训练样本上工作得很好**；即使对聚类这样的无监督学习任务，我们也希望学得的簇划分能适用于没在训练集中出现的样本。学得模型适用于新样本的能力，称之为**泛华（generalization）能力**。具有强泛化能力的模型能很好的适用于整个样本空间。\n",
    "\n",
    "### 经验误差与过拟合\n",
    "\n",
    "**错误率（error rate）**为分类错误的样本数所占样本总数的比例，即在$m$个样本中有$a$个样本分类错误，则错误率$E=frac{a}{m}$，相应的$1-frac{a}{m}$称为**精度（accruacy）**，即`精度 = 1 - 错误率`。\n",
    "\n",
    "* **误差（error）**：学习器实际预测输出与样本的真是输出之间的差异。\n",
    "* **训练误差（training error）**：也称为**经验误差**，学习器在训练集上的误差。\n",
    "* **泛化误差（generalization error）**：学习器在新样本上的误差。\n",
    "* **过拟合（overfitting）**：指在拟合一个统计模型时，使用过多参数。对比于可获取的数据总量来说，一个荒谬的模型只要足够复杂，是可以完美地适应数据。过拟合一般可以视为违反奥卡姆剃刀原则。当可选择的参数的自由度超过数据所包含信息内容时，这会导致最后（拟合后）模型使用任意的参数，这会减少或破坏模型一般化的能力更甚于适应数据。\n",
    "* **欠拟合（underfitting）**：指模型没有很好地捕捉到数据特征，不能够很好地拟合数据，与过拟合相反。\n",
    "\n",
    "### 评估方法\n",
    "\n",
    "场景前提：有一个包含$m$个样例的数据集 $D=\\{(x_1,y_1),(x_2, y_2),\\dots ,(x_m, y_m)\\}$，通过对$D$进行适当的处理，从中产生出训练集$S$和测试集$T$。\n",
    "\n",
    "#### 留出法（hold-cut）\n",
    "\n",
    "**留出法**是直接将数据$D$划分为两个互斥的集合，其中一个集合作为训练集$S$，另一个作为测试集$T$，即 $D=S\\cup T,S\\cap T=\\varnothing$ 。在$S$上训练出模型后，用$T$来评估测试误差，作为泛化误差的估计。拆分数据集$D$一般采用**分层采样（stratified sampling）**。\n",
    "\n",
    "#### 交叉验证法（cross validation）\n",
    "\n",
    "**交叉验证法**先将数据集$D$划分成$k$个大小相似的互斥子集，即$D=D_1\\cup D_2\\cup \\dots \\cup D_k,D_i\\cap D_j=\\varnothing(i\\ne j)$。每个子集$D_i$都尽可能保持数据分布一致性，即从$D$中通过分层采样得到。然后每次用$k-1$个子集作为训练集，余下的那个子集作为测试集，这样就可以获得$k$组训练/测试集，从而可以进行$k$次训练和测试，最终返回$k$次测试结果的均值。这种方法的稳定性（stability）和保真性（fidelity）很大程度上取决于$k$的取值，通常这种方式又称作**k折交叉验证（k-fold cross validation）**。$k$一般取值为 10.\n",
    "\n",
    "#### 自助法（bootstrapping）\n",
    "\n",
    "**自助法**以自助采样（bootstrap sampling）为基础，给定包含$m$个样本的数据集$D$，对它进行采样产生数据集$D^\\'$"
   ]
  },
  {
   "cell_type": "code",
   "execution_count": null,
   "metadata": {},
   "outputs": [],
   "source": []
  },
  {
   "cell_type": "code",
   "execution_count": null,
   "metadata": {},
   "outputs": [],
   "source": []
  }
 ],
 "metadata": {
  "kernelspec": {
   "display_name": "Python 3",
   "language": "python",
   "name": "python3"
  },
  "language_info": {
   "codemirror_mode": {
    "name": "ipython",
    "version": 3
   },
   "file_extension": ".py",
   "mimetype": "text/x-python",
   "name": "python",
   "nbconvert_exporter": "python",
   "pygments_lexer": "ipython3",
   "version": "3.6.2"
  }
 },
 "nbformat": 4,
 "nbformat_minor": 2
}
